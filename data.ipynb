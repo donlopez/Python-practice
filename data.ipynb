{
 "cells": [
  {
   "cell_type": "code",
   "execution_count": null,
   "metadata": {},
   "outputs": [
    {
     "name": "stdout",
     "output_type": "stream",
     "text": [
      "*****\n",
      "*****\n"
     ]
    }
   ],
   "source": [
    "def get_pattern():\n",
    "   return '*****'\n",
    "\n",
    "print(get_pattern())\n",
    "print(get_pattern())\n"
   ]
  },
  {
   "cell_type": "code",
   "execution_count": 6,
   "metadata": {},
   "outputs": [
    {
     "name": "stdout",
     "output_type": "stream",
     "text": [
      "He is 21\n"
     ]
    }
   ],
   "source": [
    "\n",
    "def print_age(user_age):\n",
    "    print(f'He is {user_age}')\n",
    "\n",
    "age_to_print = 21\n",
    "print_age(age_to_print)"
   ]
  },
  {
   "cell_type": "code",
   "execution_count": 7,
   "metadata": {},
   "outputs": [
    {
     "name": "stdout",
     "output_type": "stream",
     "text": [
      "Price: $27\n"
     ]
    }
   ],
   "source": [
    "\n",
    "def print_price(price):\n",
    "    print(f'Price: ${price}')\n",
    "\n",
    "product_price = 24\n",
    "tax_amount = 3\n",
    "print_price(product_price + tax_amount)"
   ]
  },
  {
   "cell_type": "code",
   "execution_count": 8,
   "metadata": {},
   "outputs": [
    {
     "name": "stdout",
     "output_type": "stream",
     "text": [
      "6 + 5 = 11\n"
     ]
    }
   ],
   "source": [
    "\n",
    "def print_operation(number1, number2):\n",
    "    print(f'{number1} + {number2} = {number1 + number2}')\n",
    "\n",
    "even_number = 6\n",
    "odd_number = 5\n",
    "print_operation(even_number, odd_number)"
   ]
  },
  {
   "cell_type": "code",
   "execution_count": 9,
   "metadata": {},
   "outputs": [
    {
     "name": "stdout",
     "output_type": "stream",
     "text": [
      "Sue, 22\n",
      "Bob, 23\n"
     ]
    }
   ],
   "source": [
    "\n",
    "def print_info(name, age):\n",
    "    print(f'{name}, {age}')\n",
    "\n",
    "user_name1 = 'Sue'\n",
    "user_name2 = 'Bob'\n",
    "user_age1 = 22\n",
    "user_age2 = 23\n",
    "   \n",
    "print_info(user_name1, user_age1)\n",
    "print_info(user_name2, user_age2)"
   ]
  },
  {
   "cell_type": "code",
   "execution_count": 10,
   "metadata": {},
   "outputs": [
    {
     "name": "stdout",
     "output_type": "stream",
     "text": [
      "May is 24\n",
      "May made 28 points\n"
     ]
    }
   ],
   "source": [
    "\n",
    "def print_points(name, age, total_points):\n",
    "    print(f'{name} is {age}')\n",
    "    print(f'{name} made {total_points} points')\n",
    "\n",
    "user_name = 'May'\n",
    "user_age = 24\n",
    "regular_time_points = 25\n",
    "overtime_points = 3\n",
    "\n",
    "print_points(user_name, user_age, regular_time_points + overtime_points)"
   ]
  },
  {
   "cell_type": "code",
   "execution_count": 11,
   "metadata": {},
   "outputs": [
    {
     "name": "stdout",
     "output_type": "stream",
     "text": [
      "[2, 5, 7]\n"
     ]
    }
   ],
   "source": [
    "\n",
    "user_values = [2, 5, 7]\n",
    "\n",
    "print(user_values)"
   ]
  },
  {
   "cell_type": "code",
   "execution_count": 12,
   "metadata": {},
   "outputs": [
    {
     "name": "stdout",
     "output_type": "stream",
     "text": [
      "[4, 6, 8]\n"
     ]
    }
   ],
   "source": [
    "\n",
    "user_values = [3, 6, 8]\n",
    "user_values[0] = user_values[0] + 1\n",
    "\n",
    "print(user_values)"
   ]
  },
  {
   "cell_type": "code",
   "execution_count": 13,
   "metadata": {},
   "outputs": [
    {
     "name": "stdout",
     "output_type": "stream",
     "text": [
      "[3, 6, 11]\n"
     ]
    }
   ],
   "source": [
    "\n",
    "user_values = [3, 5, 9]\n",
    "user_values[1] = user_values[1] + 1\n",
    "user_values[2] = user_values[2] + 2\n",
    "\n",
    "print(user_values)"
   ]
  },
  {
   "cell_type": "code",
   "execution_count": 14,
   "metadata": {},
   "outputs": [
    {
     "name": "stdout",
     "output_type": "stream",
     "text": [
      "[4, 4, 9]\n"
     ]
    }
   ],
   "source": [
    "\n",
    "user_values = [2, 4, 9]\n",
    "user_values[0] = user_values[1]\n",
    "\n",
    "print(user_values)"
   ]
  },
  {
   "cell_type": "code",
   "execution_count": 15,
   "metadata": {},
   "outputs": [
    {
     "name": "stdout",
     "output_type": "stream",
     "text": [
      "[4, 8, 8]\n"
     ]
    }
   ],
   "source": [
    "user_values = [3, 4, 8]\n",
    "user_values[0] = user_values[1]\n",
    "user_values[1] = user_values[2]\n",
    "\n",
    "print(user_values)"
   ]
  }
 ],
 "metadata": {
  "kernelspec": {
   "display_name": "Python 3",
   "language": "python",
   "name": "python3"
  },
  "language_info": {
   "codemirror_mode": {
    "name": "ipython",
    "version": 3
   },
   "file_extension": ".py",
   "mimetype": "text/x-python",
   "name": "python",
   "nbconvert_exporter": "python",
   "pygments_lexer": "ipython3",
   "version": "3.12.3"
  }
 },
 "nbformat": 4,
 "nbformat_minor": 2
}
